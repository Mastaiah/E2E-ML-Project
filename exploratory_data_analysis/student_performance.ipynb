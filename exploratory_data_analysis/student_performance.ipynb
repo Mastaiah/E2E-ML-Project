{
 "cells": [
  {
   "cell_type": "markdown",
   "metadata": {},
   "source": [
    "<p align=\"center\">\n",
    "    <font size=8> <b><i><span style=\"color:green\">Student Performance Indicator</span></i></b></font>\n",
    "</p>\n",
    "<br></br>"
   ]
  },
  {
   "cell_type": "markdown",
   "metadata": {},
   "source": [
    "<p>\n",
    "    <font size=5><b><i><span style=\"color:purple\">Life Cycle Of Machine Learning Project</span></i></b></font>\n",
    "</p>\n",
    "\n",
    "- Define the problem Statement.\n",
    "- Data gathering.\n",
    "- Discover and visualize the data to gain insights.\n",
    "- Prepare the data for machine learning.\n",
    "- Model selection and training.\n",
    "- Model evaluation and fine tuning.\n",
    "- Presentation of solution.\n",
    "- Launch , monitor and maintain."
   ]
  },
  {
   "cell_type": "markdown",
   "metadata": {},
   "source": [
    "<p>\n",
    "    <font size=5><b><i><span style=\"color:purple\">1) Problem statement</span></i></b></font>\n",
    "</p>\n",
    "- How student's performance (test scores) are affected by various factors such as Gender, Ethnicity, Parental level of education, Lunch and Test preparation."
   ]
  }
 ],
 "metadata": {
  "kernelspec": {
   "display_name": "Python 3",
   "language": "python",
   "name": "python3"
  },
  "language_info": {
   "codemirror_mode": {
    "name": "ipython",
    "version": 3
   },
   "file_extension": ".py",
   "mimetype": "text/x-python",
   "name": "python",
   "nbconvert_exporter": "python",
   "pygments_lexer": "ipython3",
   "version": "3.9.0"
  },
  "orig_nbformat": 4
 },
 "nbformat": 4,
 "nbformat_minor": 2
}
