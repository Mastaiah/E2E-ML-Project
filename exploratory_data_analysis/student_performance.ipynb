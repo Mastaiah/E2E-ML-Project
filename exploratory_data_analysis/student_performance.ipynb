{
 "cells": [
  {
   "cell_type": "markdown",
   "metadata": {},
   "source": [
    "<p align=\"centre\">\n",
    "    <font size=8><b><i>Student Performance Indicator</i></b></font>\n",
    " </p>"
   ]
  },
  {
   "cell_type": "markdown",
   "metadata": {},
   "source": [
<<<<<<< HEAD
    "<p align=\"centre\">\n",
    "    <font size=2>Life Cycle Of Machine Learning Project</font>\n",
    "       <br><t> . Define the Problem Statement</t></br>\n",
    "</p>"
=======
    "####Life Cycle Of Machine Learning Project\n",
    "\n",
    "- Define the problem Statement.\n",
    "- Data gathering.\n",
    "- Discover and visualize the data to gain insights.\n",
    "- Prepare the data for machine learning.\n",
    "- Model selection and training.\n",
    "- Model evaluation and fine tuning.\n",
    "- Presentation of solution.\n",
    "- Launch , monitor and maintain."
>>>>>>> d133eba (EDA updated.)
   ]
  },
  {
   "cell_type": "code",
   "execution_count": null,
   "metadata": {},
   "outputs": [],
   "source": []
  }
 ],
 "metadata": {
  "kernelspec": {
   "display_name": "Python 3",
   "language": "python",
   "name": "python3"
  },
  "language_info": {
   "codemirror_mode": {
    "name": "ipython",
    "version": 3
   },
   "file_extension": ".py",
   "mimetype": "text/x-python",
   "name": "python",
   "nbconvert_exporter": "python",
   "pygments_lexer": "ipython3",
   "version": "3.9.0"
  },
  "orig_nbformat": 4
 },
 "nbformat": 4,
 "nbformat_minor": 2
}
